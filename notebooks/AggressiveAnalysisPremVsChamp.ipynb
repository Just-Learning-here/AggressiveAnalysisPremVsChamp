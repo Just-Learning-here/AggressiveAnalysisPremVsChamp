{
 "cells": [
  {
   "cell_type": "code",
   "execution_count": 71,
   "id": "f1f2b552",
   "metadata": {},
   "outputs": [
    {
     "data": {
      "text/html": [
       "<div>\n",
       "<style scoped>\n",
       "    .dataframe tbody tr th:only-of-type {\n",
       "        vertical-align: middle;\n",
       "    }\n",
       "\n",
       "    .dataframe tbody tr th {\n",
       "        vertical-align: top;\n",
       "    }\n",
       "\n",
       "    .dataframe thead th {\n",
       "        text-align: right;\n",
       "    }\n",
       "</style>\n",
       "<table border=\"1\" class=\"dataframe\">\n",
       "  <thead>\n",
       "    <tr style=\"text-align: right;\">\n",
       "      <th></th>\n",
       "      <th>Date</th>\n",
       "      <th>Season</th>\n",
       "      <th>HomeTeam</th>\n",
       "      <th>AwayTeam</th>\n",
       "      <th>FTH Goals</th>\n",
       "      <th>FTA Goals</th>\n",
       "      <th>FT Result</th>\n",
       "      <th>HTH Goals</th>\n",
       "      <th>HTA Goals</th>\n",
       "      <th>HT Result</th>\n",
       "      <th>...</th>\n",
       "      <th>H Fouls</th>\n",
       "      <th>A Fouls</th>\n",
       "      <th>H Corners</th>\n",
       "      <th>A Corners</th>\n",
       "      <th>H Yellow</th>\n",
       "      <th>A Yellow</th>\n",
       "      <th>H Red</th>\n",
       "      <th>A Red</th>\n",
       "      <th>Display_Order</th>\n",
       "      <th>League</th>\n",
       "    </tr>\n",
       "  </thead>\n",
       "  <tbody>\n",
       "    <tr>\n",
       "      <th>0</th>\n",
       "      <td>16/01/2025</td>\n",
       "      <td>2024/25</td>\n",
       "      <td>Ipswich Town</td>\n",
       "      <td>Brighton &amp; Hove Albion</td>\n",
       "      <td>0</td>\n",
       "      <td>2</td>\n",
       "      <td>A</td>\n",
       "      <td>0.0</td>\n",
       "      <td>1.0</td>\n",
       "      <td>A</td>\n",
       "      <td>...</td>\n",
       "      <td>13.0</td>\n",
       "      <td>14.0</td>\n",
       "      <td>1.0</td>\n",
       "      <td>9.0</td>\n",
       "      <td>2.0</td>\n",
       "      <td>2.0</td>\n",
       "      <td>0.0</td>\n",
       "      <td>0.0</td>\n",
       "      <td>20250116</td>\n",
       "      <td>Premier League</td>\n",
       "    </tr>\n",
       "    <tr>\n",
       "      <th>1</th>\n",
       "      <td>16/01/2025</td>\n",
       "      <td>2024/25</td>\n",
       "      <td>Man United</td>\n",
       "      <td>Southampton</td>\n",
       "      <td>3</td>\n",
       "      <td>1</td>\n",
       "      <td>H</td>\n",
       "      <td>0.0</td>\n",
       "      <td>1.0</td>\n",
       "      <td>A</td>\n",
       "      <td>...</td>\n",
       "      <td>7.0</td>\n",
       "      <td>10.0</td>\n",
       "      <td>4.0</td>\n",
       "      <td>4.0</td>\n",
       "      <td>1.0</td>\n",
       "      <td>3.0</td>\n",
       "      <td>0.0</td>\n",
       "      <td>0.0</td>\n",
       "      <td>20250116</td>\n",
       "      <td>Premier League</td>\n",
       "    </tr>\n",
       "    <tr>\n",
       "      <th>2</th>\n",
       "      <td>15/01/2025</td>\n",
       "      <td>2024/25</td>\n",
       "      <td>Everton</td>\n",
       "      <td>Aston Villa</td>\n",
       "      <td>0</td>\n",
       "      <td>1</td>\n",
       "      <td>A</td>\n",
       "      <td>0.0</td>\n",
       "      <td>0.0</td>\n",
       "      <td>D</td>\n",
       "      <td>...</td>\n",
       "      <td>17.0</td>\n",
       "      <td>10.0</td>\n",
       "      <td>8.0</td>\n",
       "      <td>5.0</td>\n",
       "      <td>2.0</td>\n",
       "      <td>1.0</td>\n",
       "      <td>0.0</td>\n",
       "      <td>0.0</td>\n",
       "      <td>20250115</td>\n",
       "      <td>Premier League</td>\n",
       "    </tr>\n",
       "    <tr>\n",
       "      <th>3</th>\n",
       "      <td>15/01/2025</td>\n",
       "      <td>2024/25</td>\n",
       "      <td>Leicester</td>\n",
       "      <td>Crystal Palace</td>\n",
       "      <td>0</td>\n",
       "      <td>2</td>\n",
       "      <td>A</td>\n",
       "      <td>0.0</td>\n",
       "      <td>0.0</td>\n",
       "      <td>D</td>\n",
       "      <td>...</td>\n",
       "      <td>7.0</td>\n",
       "      <td>6.0</td>\n",
       "      <td>4.0</td>\n",
       "      <td>3.0</td>\n",
       "      <td>0.0</td>\n",
       "      <td>0.0</td>\n",
       "      <td>0.0</td>\n",
       "      <td>0.0</td>\n",
       "      <td>20250115</td>\n",
       "      <td>Premier League</td>\n",
       "    </tr>\n",
       "    <tr>\n",
       "      <th>4</th>\n",
       "      <td>15/01/2025</td>\n",
       "      <td>2024/25</td>\n",
       "      <td>Newcastle</td>\n",
       "      <td>Wolves</td>\n",
       "      <td>3</td>\n",
       "      <td>0</td>\n",
       "      <td>H</td>\n",
       "      <td>1.0</td>\n",
       "      <td>0.0</td>\n",
       "      <td>H</td>\n",
       "      <td>...</td>\n",
       "      <td>10.0</td>\n",
       "      <td>13.0</td>\n",
       "      <td>4.0</td>\n",
       "      <td>2.0</td>\n",
       "      <td>0.0</td>\n",
       "      <td>2.0</td>\n",
       "      <td>0.0</td>\n",
       "      <td>0.0</td>\n",
       "      <td>20250115</td>\n",
       "      <td>Premier League</td>\n",
       "    </tr>\n",
       "    <tr>\n",
       "      <th>...</th>\n",
       "      <td>...</td>\n",
       "      <td>...</td>\n",
       "      <td>...</td>\n",
       "      <td>...</td>\n",
       "      <td>...</td>\n",
       "      <td>...</td>\n",
       "      <td>...</td>\n",
       "      <td>...</td>\n",
       "      <td>...</td>\n",
       "      <td>...</td>\n",
       "      <td>...</td>\n",
       "      <td>...</td>\n",
       "      <td>...</td>\n",
       "      <td>...</td>\n",
       "      <td>...</td>\n",
       "      <td>...</td>\n",
       "      <td>...</td>\n",
       "      <td>...</td>\n",
       "      <td>...</td>\n",
       "      <td>...</td>\n",
       "      <td>...</td>\n",
       "    </tr>\n",
       "    <tr>\n",
       "      <th>12148</th>\n",
       "      <td>14/08/1993</td>\n",
       "      <td>1993/94</td>\n",
       "      <td>Southampton</td>\n",
       "      <td>Everton</td>\n",
       "      <td>0</td>\n",
       "      <td>2</td>\n",
       "      <td>A</td>\n",
       "      <td>NaN</td>\n",
       "      <td>NaN</td>\n",
       "      <td>NaN</td>\n",
       "      <td>...</td>\n",
       "      <td>NaN</td>\n",
       "      <td>NaN</td>\n",
       "      <td>NaN</td>\n",
       "      <td>NaN</td>\n",
       "      <td>NaN</td>\n",
       "      <td>NaN</td>\n",
       "      <td>NaN</td>\n",
       "      <td>NaN</td>\n",
       "      <td>19930814</td>\n",
       "      <td>Premier League</td>\n",
       "    </tr>\n",
       "    <tr>\n",
       "      <th>12149</th>\n",
       "      <td>14/08/1993</td>\n",
       "      <td>1993/94</td>\n",
       "      <td>Sheffield United</td>\n",
       "      <td>Swindon</td>\n",
       "      <td>3</td>\n",
       "      <td>1</td>\n",
       "      <td>H</td>\n",
       "      <td>NaN</td>\n",
       "      <td>NaN</td>\n",
       "      <td>NaN</td>\n",
       "      <td>...</td>\n",
       "      <td>NaN</td>\n",
       "      <td>NaN</td>\n",
       "      <td>NaN</td>\n",
       "      <td>NaN</td>\n",
       "      <td>NaN</td>\n",
       "      <td>NaN</td>\n",
       "      <td>NaN</td>\n",
       "      <td>NaN</td>\n",
       "      <td>19930814</td>\n",
       "      <td>Premier League</td>\n",
       "    </tr>\n",
       "    <tr>\n",
       "      <th>12150</th>\n",
       "      <td>14/08/1993</td>\n",
       "      <td>1993/94</td>\n",
       "      <td>Liverpool</td>\n",
       "      <td>Sheffield Weds</td>\n",
       "      <td>2</td>\n",
       "      <td>0</td>\n",
       "      <td>H</td>\n",
       "      <td>NaN</td>\n",
       "      <td>NaN</td>\n",
       "      <td>NaN</td>\n",
       "      <td>...</td>\n",
       "      <td>NaN</td>\n",
       "      <td>NaN</td>\n",
       "      <td>NaN</td>\n",
       "      <td>NaN</td>\n",
       "      <td>NaN</td>\n",
       "      <td>NaN</td>\n",
       "      <td>NaN</td>\n",
       "      <td>NaN</td>\n",
       "      <td>19930814</td>\n",
       "      <td>Premier League</td>\n",
       "    </tr>\n",
       "    <tr>\n",
       "      <th>12151</th>\n",
       "      <td>14/08/1993</td>\n",
       "      <td>1993/94</td>\n",
       "      <td>Aston Villa</td>\n",
       "      <td>QPR</td>\n",
       "      <td>4</td>\n",
       "      <td>1</td>\n",
       "      <td>H</td>\n",
       "      <td>NaN</td>\n",
       "      <td>NaN</td>\n",
       "      <td>NaN</td>\n",
       "      <td>...</td>\n",
       "      <td>NaN</td>\n",
       "      <td>NaN</td>\n",
       "      <td>NaN</td>\n",
       "      <td>NaN</td>\n",
       "      <td>NaN</td>\n",
       "      <td>NaN</td>\n",
       "      <td>NaN</td>\n",
       "      <td>NaN</td>\n",
       "      <td>19930814</td>\n",
       "      <td>Premier League</td>\n",
       "    </tr>\n",
       "    <tr>\n",
       "      <th>12152</th>\n",
       "      <td>14/08/1993</td>\n",
       "      <td>1993/94</td>\n",
       "      <td>Oldham</td>\n",
       "      <td>Ipswich</td>\n",
       "      <td>0</td>\n",
       "      <td>3</td>\n",
       "      <td>A</td>\n",
       "      <td>NaN</td>\n",
       "      <td>NaN</td>\n",
       "      <td>NaN</td>\n",
       "      <td>...</td>\n",
       "      <td>NaN</td>\n",
       "      <td>NaN</td>\n",
       "      <td>NaN</td>\n",
       "      <td>NaN</td>\n",
       "      <td>NaN</td>\n",
       "      <td>NaN</td>\n",
       "      <td>NaN</td>\n",
       "      <td>NaN</td>\n",
       "      <td>19930814</td>\n",
       "      <td>Premier League</td>\n",
       "    </tr>\n",
       "  </tbody>\n",
       "</table>\n",
       "<p>12153 rows × 25 columns</p>\n",
       "</div>"
      ],
      "text/plain": [
       "             Date   Season          HomeTeam                AwayTeam  \\\n",
       "0      16/01/2025  2024/25      Ipswich Town  Brighton & Hove Albion   \n",
       "1      16/01/2025  2024/25        Man United             Southampton   \n",
       "2      15/01/2025  2024/25           Everton             Aston Villa   \n",
       "3      15/01/2025  2024/25         Leicester          Crystal Palace   \n",
       "4      15/01/2025  2024/25         Newcastle                  Wolves   \n",
       "...           ...      ...               ...                     ...   \n",
       "12148  14/08/1993  1993/94       Southampton                 Everton   \n",
       "12149  14/08/1993  1993/94  Sheffield United                 Swindon   \n",
       "12150  14/08/1993  1993/94         Liverpool          Sheffield Weds   \n",
       "12151  14/08/1993  1993/94       Aston Villa                     QPR   \n",
       "12152  14/08/1993  1993/94            Oldham                 Ipswich   \n",
       "\n",
       "       FTH Goals  FTA Goals FT Result  HTH Goals  HTA Goals HT Result  ...  \\\n",
       "0              0          2         A        0.0        1.0         A  ...   \n",
       "1              3          1         H        0.0        1.0         A  ...   \n",
       "2              0          1         A        0.0        0.0         D  ...   \n",
       "3              0          2         A        0.0        0.0         D  ...   \n",
       "4              3          0         H        1.0        0.0         H  ...   \n",
       "...          ...        ...       ...        ...        ...       ...  ...   \n",
       "12148          0          2         A        NaN        NaN       NaN  ...   \n",
       "12149          3          1         H        NaN        NaN       NaN  ...   \n",
       "12150          2          0         H        NaN        NaN       NaN  ...   \n",
       "12151          4          1         H        NaN        NaN       NaN  ...   \n",
       "12152          0          3         A        NaN        NaN       NaN  ...   \n",
       "\n",
       "      H Fouls  A Fouls  H Corners  A Corners  H Yellow  A Yellow  H Red  \\\n",
       "0        13.0     14.0        1.0        9.0       2.0       2.0    0.0   \n",
       "1         7.0     10.0        4.0        4.0       1.0       3.0    0.0   \n",
       "2        17.0     10.0        8.0        5.0       2.0       1.0    0.0   \n",
       "3         7.0      6.0        4.0        3.0       0.0       0.0    0.0   \n",
       "4        10.0     13.0        4.0        2.0       0.0       2.0    0.0   \n",
       "...       ...      ...        ...        ...       ...       ...    ...   \n",
       "12148     NaN      NaN        NaN        NaN       NaN       NaN    NaN   \n",
       "12149     NaN      NaN        NaN        NaN       NaN       NaN    NaN   \n",
       "12150     NaN      NaN        NaN        NaN       NaN       NaN    NaN   \n",
       "12151     NaN      NaN        NaN        NaN       NaN       NaN    NaN   \n",
       "12152     NaN      NaN        NaN        NaN       NaN       NaN    NaN   \n",
       "\n",
       "       A Red  Display_Order          League  \n",
       "0        0.0       20250116  Premier League  \n",
       "1        0.0       20250116  Premier League  \n",
       "2        0.0       20250115  Premier League  \n",
       "3        0.0       20250115  Premier League  \n",
       "4        0.0       20250115  Premier League  \n",
       "...      ...            ...             ...  \n",
       "12148    NaN       19930814  Premier League  \n",
       "12149    NaN       19930814  Premier League  \n",
       "12150    NaN       19930814  Premier League  \n",
       "12151    NaN       19930814  Premier League  \n",
       "12152    NaN       19930814  Premier League  \n",
       "\n",
       "[12153 rows x 25 columns]"
      ]
     },
     "metadata": {},
     "output_type": "display_data"
    },
    {
     "data": {
      "text/html": [
       "<div>\n",
       "<style scoped>\n",
       "    .dataframe tbody tr th:only-of-type {\n",
       "        vertical-align: middle;\n",
       "    }\n",
       "\n",
       "    .dataframe tbody tr th {\n",
       "        vertical-align: top;\n",
       "    }\n",
       "\n",
       "    .dataframe thead th {\n",
       "        text-align: right;\n",
       "    }\n",
       "</style>\n",
       "<table border=\"1\" class=\"dataframe\">\n",
       "  <thead>\n",
       "    <tr style=\"text-align: right;\">\n",
       "      <th></th>\n",
       "      <th>Date</th>\n",
       "      <th>Season</th>\n",
       "      <th>HomeTeam</th>\n",
       "      <th>AwayTeam</th>\n",
       "      <th>FTH Goals</th>\n",
       "      <th>FTA Goals</th>\n",
       "      <th>FT Result</th>\n",
       "      <th>HTH Goals</th>\n",
       "      <th>HTA Goals</th>\n",
       "      <th>HT Result</th>\n",
       "      <th>...</th>\n",
       "      <th>H Fouls</th>\n",
       "      <th>A Fouls</th>\n",
       "      <th>H Corners</th>\n",
       "      <th>A Corners</th>\n",
       "      <th>H Yellow</th>\n",
       "      <th>A Yellow</th>\n",
       "      <th>H Red</th>\n",
       "      <th>A Red</th>\n",
       "      <th>Display_Order</th>\n",
       "      <th>League</th>\n",
       "    </tr>\n",
       "  </thead>\n",
       "  <tbody>\n",
       "    <tr>\n",
       "      <th>0</th>\n",
       "      <td>15/01/2025</td>\n",
       "      <td>2024/25</td>\n",
       "      <td>Blackburn</td>\n",
       "      <td>Portsmouth</td>\n",
       "      <td>3</td>\n",
       "      <td>0</td>\n",
       "      <td>H</td>\n",
       "      <td>0.0</td>\n",
       "      <td>0.0</td>\n",
       "      <td>D</td>\n",
       "      <td>...</td>\n",
       "      <td>15.0</td>\n",
       "      <td>19.0</td>\n",
       "      <td>5.0</td>\n",
       "      <td>6.0</td>\n",
       "      <td>1.0</td>\n",
       "      <td>3.0</td>\n",
       "      <td>0.0</td>\n",
       "      <td>0.0</td>\n",
       "      <td>20250115</td>\n",
       "      <td>English Second</td>\n",
       "    </tr>\n",
       "    <tr>\n",
       "      <th>1</th>\n",
       "      <td>14/01/2025</td>\n",
       "      <td>2024/25</td>\n",
       "      <td>Cardiff</td>\n",
       "      <td>Watford</td>\n",
       "      <td>1</td>\n",
       "      <td>1</td>\n",
       "      <td>D</td>\n",
       "      <td>0.0</td>\n",
       "      <td>0.0</td>\n",
       "      <td>D</td>\n",
       "      <td>...</td>\n",
       "      <td>8.0</td>\n",
       "      <td>14.0</td>\n",
       "      <td>7.0</td>\n",
       "      <td>3.0</td>\n",
       "      <td>1.0</td>\n",
       "      <td>2.0</td>\n",
       "      <td>0.0</td>\n",
       "      <td>0.0</td>\n",
       "      <td>20250114</td>\n",
       "      <td>English Second</td>\n",
       "    </tr>\n",
       "    <tr>\n",
       "      <th>2</th>\n",
       "      <td>14/01/2025</td>\n",
       "      <td>2024/25</td>\n",
       "      <td>Plymouth</td>\n",
       "      <td>Oxford</td>\n",
       "      <td>1</td>\n",
       "      <td>1</td>\n",
       "      <td>D</td>\n",
       "      <td>0.0</td>\n",
       "      <td>1.0</td>\n",
       "      <td>A</td>\n",
       "      <td>...</td>\n",
       "      <td>8.0</td>\n",
       "      <td>10.0</td>\n",
       "      <td>6.0</td>\n",
       "      <td>3.0</td>\n",
       "      <td>1.0</td>\n",
       "      <td>1.0</td>\n",
       "      <td>0.0</td>\n",
       "      <td>0.0</td>\n",
       "      <td>20250114</td>\n",
       "      <td>English Second</td>\n",
       "    </tr>\n",
       "    <tr>\n",
       "      <th>3</th>\n",
       "      <td>6/01/2025</td>\n",
       "      <td>2024/25</td>\n",
       "      <td>QPR</td>\n",
       "      <td>Luton</td>\n",
       "      <td>2</td>\n",
       "      <td>1</td>\n",
       "      <td>H</td>\n",
       "      <td>1.0</td>\n",
       "      <td>1.0</td>\n",
       "      <td>D</td>\n",
       "      <td>...</td>\n",
       "      <td>10.0</td>\n",
       "      <td>9.0</td>\n",
       "      <td>3.0</td>\n",
       "      <td>4.0</td>\n",
       "      <td>1.0</td>\n",
       "      <td>1.0</td>\n",
       "      <td>0.0</td>\n",
       "      <td>0.0</td>\n",
       "      <td>20250106</td>\n",
       "      <td>English Second</td>\n",
       "    </tr>\n",
       "    <tr>\n",
       "      <th>4</th>\n",
       "      <td>5/01/2025</td>\n",
       "      <td>2024/25</td>\n",
       "      <td>Sunderland</td>\n",
       "      <td>Portsmouth</td>\n",
       "      <td>1</td>\n",
       "      <td>0</td>\n",
       "      <td>H</td>\n",
       "      <td>1.0</td>\n",
       "      <td>0.0</td>\n",
       "      <td>H</td>\n",
       "      <td>...</td>\n",
       "      <td>9.0</td>\n",
       "      <td>10.0</td>\n",
       "      <td>7.0</td>\n",
       "      <td>3.0</td>\n",
       "      <td>1.0</td>\n",
       "      <td>2.0</td>\n",
       "      <td>0.0</td>\n",
       "      <td>1.0</td>\n",
       "      <td>20250105</td>\n",
       "      <td>English Second</td>\n",
       "    </tr>\n",
       "    <tr>\n",
       "      <th>...</th>\n",
       "      <td>...</td>\n",
       "      <td>...</td>\n",
       "      <td>...</td>\n",
       "      <td>...</td>\n",
       "      <td>...</td>\n",
       "      <td>...</td>\n",
       "      <td>...</td>\n",
       "      <td>...</td>\n",
       "      <td>...</td>\n",
       "      <td>...</td>\n",
       "      <td>...</td>\n",
       "      <td>...</td>\n",
       "      <td>...</td>\n",
       "      <td>...</td>\n",
       "      <td>...</td>\n",
       "      <td>...</td>\n",
       "      <td>...</td>\n",
       "      <td>...</td>\n",
       "      <td>...</td>\n",
       "      <td>...</td>\n",
       "      <td>...</td>\n",
       "    </tr>\n",
       "    <tr>\n",
       "      <th>11346</th>\n",
       "      <td>7/08/2004</td>\n",
       "      <td>2004/05</td>\n",
       "      <td>Plymouth</td>\n",
       "      <td>Millwall</td>\n",
       "      <td>0</td>\n",
       "      <td>0</td>\n",
       "      <td>D</td>\n",
       "      <td>0.0</td>\n",
       "      <td>0.0</td>\n",
       "      <td>D</td>\n",
       "      <td>...</td>\n",
       "      <td>17.0</td>\n",
       "      <td>16.0</td>\n",
       "      <td>2.0</td>\n",
       "      <td>5.0</td>\n",
       "      <td>2.0</td>\n",
       "      <td>2.0</td>\n",
       "      <td>0.0</td>\n",
       "      <td>0.0</td>\n",
       "      <td>20040807</td>\n",
       "      <td>English Second</td>\n",
       "    </tr>\n",
       "    <tr>\n",
       "      <th>11347</th>\n",
       "      <td>7/08/2004</td>\n",
       "      <td>2004/05</td>\n",
       "      <td>Preston</td>\n",
       "      <td>Watford</td>\n",
       "      <td>2</td>\n",
       "      <td>1</td>\n",
       "      <td>H</td>\n",
       "      <td>1.0</td>\n",
       "      <td>0.0</td>\n",
       "      <td>H</td>\n",
       "      <td>...</td>\n",
       "      <td>13.0</td>\n",
       "      <td>9.0</td>\n",
       "      <td>6.0</td>\n",
       "      <td>4.0</td>\n",
       "      <td>1.0</td>\n",
       "      <td>0.0</td>\n",
       "      <td>0.0</td>\n",
       "      <td>0.0</td>\n",
       "      <td>20040807</td>\n",
       "      <td>English Second</td>\n",
       "    </tr>\n",
       "    <tr>\n",
       "      <th>11348</th>\n",
       "      <td>7/08/2004</td>\n",
       "      <td>2004/05</td>\n",
       "      <td>QPR</td>\n",
       "      <td>Rotherham</td>\n",
       "      <td>1</td>\n",
       "      <td>1</td>\n",
       "      <td>D</td>\n",
       "      <td>1.0</td>\n",
       "      <td>1.0</td>\n",
       "      <td>D</td>\n",
       "      <td>...</td>\n",
       "      <td>20.0</td>\n",
       "      <td>14.0</td>\n",
       "      <td>5.0</td>\n",
       "      <td>6.0</td>\n",
       "      <td>0.0</td>\n",
       "      <td>1.0</td>\n",
       "      <td>0.0</td>\n",
       "      <td>0.0</td>\n",
       "      <td>20040807</td>\n",
       "      <td>English Second</td>\n",
       "    </tr>\n",
       "    <tr>\n",
       "      <th>11349</th>\n",
       "      <td>7/08/2004</td>\n",
       "      <td>2004/05</td>\n",
       "      <td>Reading</td>\n",
       "      <td>Brighton</td>\n",
       "      <td>3</td>\n",
       "      <td>2</td>\n",
       "      <td>H</td>\n",
       "      <td>2.0</td>\n",
       "      <td>1.0</td>\n",
       "      <td>H</td>\n",
       "      <td>...</td>\n",
       "      <td>10.0</td>\n",
       "      <td>8.0</td>\n",
       "      <td>7.0</td>\n",
       "      <td>1.0</td>\n",
       "      <td>1.0</td>\n",
       "      <td>2.0</td>\n",
       "      <td>0.0</td>\n",
       "      <td>0.0</td>\n",
       "      <td>20040807</td>\n",
       "      <td>English Second</td>\n",
       "    </tr>\n",
       "    <tr>\n",
       "      <th>11350</th>\n",
       "      <td>7/08/2004</td>\n",
       "      <td>2004/05</td>\n",
       "      <td>Wigan</td>\n",
       "      <td>Nott'm Forest</td>\n",
       "      <td>1</td>\n",
       "      <td>1</td>\n",
       "      <td>D</td>\n",
       "      <td>1.0</td>\n",
       "      <td>0.0</td>\n",
       "      <td>H</td>\n",
       "      <td>...</td>\n",
       "      <td>18.0</td>\n",
       "      <td>16.0</td>\n",
       "      <td>8.0</td>\n",
       "      <td>3.0</td>\n",
       "      <td>2.0</td>\n",
       "      <td>0.0</td>\n",
       "      <td>0.0</td>\n",
       "      <td>0.0</td>\n",
       "      <td>20040807</td>\n",
       "      <td>English Second</td>\n",
       "    </tr>\n",
       "  </tbody>\n",
       "</table>\n",
       "<p>11351 rows × 25 columns</p>\n",
       "</div>"
      ],
      "text/plain": [
       "             Date   Season    HomeTeam       AwayTeam  FTH Goals  FTA Goals  \\\n",
       "0      15/01/2025  2024/25   Blackburn     Portsmouth          3          0   \n",
       "1      14/01/2025  2024/25     Cardiff        Watford          1          1   \n",
       "2      14/01/2025  2024/25    Plymouth         Oxford          1          1   \n",
       "3       6/01/2025  2024/25         QPR          Luton          2          1   \n",
       "4       5/01/2025  2024/25  Sunderland     Portsmouth          1          0   \n",
       "...           ...      ...         ...            ...        ...        ...   \n",
       "11346   7/08/2004  2004/05    Plymouth       Millwall          0          0   \n",
       "11347   7/08/2004  2004/05     Preston        Watford          2          1   \n",
       "11348   7/08/2004  2004/05         QPR      Rotherham          1          1   \n",
       "11349   7/08/2004  2004/05     Reading       Brighton          3          2   \n",
       "11350   7/08/2004  2004/05       Wigan  Nott'm Forest          1          1   \n",
       "\n",
       "      FT Result  HTH Goals  HTA Goals HT Result  ... H Fouls  A Fouls  \\\n",
       "0             H        0.0        0.0         D  ...    15.0     19.0   \n",
       "1             D        0.0        0.0         D  ...     8.0     14.0   \n",
       "2             D        0.0        1.0         A  ...     8.0     10.0   \n",
       "3             H        1.0        1.0         D  ...    10.0      9.0   \n",
       "4             H        1.0        0.0         H  ...     9.0     10.0   \n",
       "...         ...        ...        ...       ...  ...     ...      ...   \n",
       "11346         D        0.0        0.0         D  ...    17.0     16.0   \n",
       "11347         H        1.0        0.0         H  ...    13.0      9.0   \n",
       "11348         D        1.0        1.0         D  ...    20.0     14.0   \n",
       "11349         H        2.0        1.0         H  ...    10.0      8.0   \n",
       "11350         D        1.0        0.0         H  ...    18.0     16.0   \n",
       "\n",
       "       H Corners  A Corners  H Yellow  A Yellow  H Red  A Red  Display_Order  \\\n",
       "0            5.0        6.0       1.0       3.0    0.0    0.0       20250115   \n",
       "1            7.0        3.0       1.0       2.0    0.0    0.0       20250114   \n",
       "2            6.0        3.0       1.0       1.0    0.0    0.0       20250114   \n",
       "3            3.0        4.0       1.0       1.0    0.0    0.0       20250106   \n",
       "4            7.0        3.0       1.0       2.0    0.0    1.0       20250105   \n",
       "...          ...        ...       ...       ...    ...    ...            ...   \n",
       "11346        2.0        5.0       2.0       2.0    0.0    0.0       20040807   \n",
       "11347        6.0        4.0       1.0       0.0    0.0    0.0       20040807   \n",
       "11348        5.0        6.0       0.0       1.0    0.0    0.0       20040807   \n",
       "11349        7.0        1.0       1.0       2.0    0.0    0.0       20040807   \n",
       "11350        8.0        3.0       2.0       0.0    0.0    0.0       20040807   \n",
       "\n",
       "               League  \n",
       "0      English Second  \n",
       "1      English Second  \n",
       "2      English Second  \n",
       "3      English Second  \n",
       "4      English Second  \n",
       "...               ...  \n",
       "11346  English Second  \n",
       "11347  English Second  \n",
       "11348  English Second  \n",
       "11349  English Second  \n",
       "11350  English Second  \n",
       "\n",
       "[11351 rows x 25 columns]"
      ]
     },
     "metadata": {},
     "output_type": "display_data"
    }
   ],
   "source": [
    "import pandas as pd\n",
    "df = pd.read_csv(r\"..\\England CSV.csv\", delimiter=',')  # Premier League Data \n",
    "dfC= pd.read_csv(r\"..\\England 2 CSV.csv\", delimiter=',') # Championship Data\n",
    "display(df)\n",
    "display(dfC)\n"
   ]
  },
  {
   "cell_type": "code",
   "execution_count": 72,
   "id": "2ba155d2",
   "metadata": {},
   "outputs": [],
   "source": [
    "def year(x): # method to remove the (/yy) format from year to change it into integer \n",
    "    x=x.split(\"/\")\n",
    "    \n",
    "    return x[0]\n"
   ]
  },
  {
   "cell_type": "code",
   "execution_count": 73,
   "id": "7c8833b8",
   "metadata": {},
   "outputs": [],
   "source": [
    "df[\"Season\"] = df[\"Season\"].apply(year) # applying the method to the column Season in both datasets\n",
    "dfC[\"Season\"] =dfC[\"Season\"].apply(year) \n",
    "\n"
   ]
  },
  {
   "cell_type": "code",
   "execution_count": 74,
   "id": "59f0ec2e",
   "metadata": {},
   "outputs": [],
   "source": [
    "\n",
    "\n",
    "\n",
    "\n",
    "df[\"Season\"] = pd.to_numeric(df[\"Season\"])  #changing Season data type from object to integer for both datasets\n",
    "dfC[\"Season\"] = pd.to_numeric(dfC[\"Season\"])\n"
   ]
  },
  {
   "cell_type": "code",
   "execution_count": 75,
   "id": "624a5f9c",
   "metadata": {},
   "outputs": [],
   "source": [
    "# taking data from 2020 till 2024 seasons as a sample for the analysis \n",
    "df= df[df[\"Season\"]>= 2020]  \n",
    "\n",
    "dfC= dfC[dfC[\"Season\"]>= 2020]\n"
   ]
  },
  {
   "cell_type": "code",
   "execution_count": 76,
   "id": "3a4aae32",
   "metadata": {},
   "outputs": [],
   "source": [
    "# i believe that this column is not really necessary in my analysis \n",
    "del df[\"Date\"]  \n",
    "del dfC[\"Date\"]"
   ]
  },
  {
   "cell_type": "code",
   "execution_count": 77,
   "id": "355247df",
   "metadata": {},
   "outputs": [
    {
     "name": "stdout",
     "output_type": "stream",
     "text": [
      "<class 'pandas.core.frame.DataFrame'>\n",
      "Index: 1729 entries, 0 to 1728\n",
      "Data columns (total 24 columns):\n",
      " #   Column         Non-Null Count  Dtype  \n",
      "---  ------         --------------  -----  \n",
      " 0   Season         1729 non-null   int64  \n",
      " 1   HomeTeam       1729 non-null   object \n",
      " 2   AwayTeam       1729 non-null   object \n",
      " 3   FTH Goals      1729 non-null   int64  \n",
      " 4   FTA Goals      1729 non-null   int64  \n",
      " 5   FT Result      1729 non-null   object \n",
      " 6   HTH Goals      1729 non-null   float64\n",
      " 7   HTA Goals      1729 non-null   float64\n",
      " 8   HT Result      1729 non-null   object \n",
      " 9   Referee        1729 non-null   object \n",
      " 10  H Shots        1729 non-null   float64\n",
      " 11  A Shots        1729 non-null   float64\n",
      " 12  H SOT          1729 non-null   float64\n",
      " 13  A SOT          1729 non-null   float64\n",
      " 14  H Fouls        1729 non-null   float64\n",
      " 15  A Fouls        1729 non-null   float64\n",
      " 16  H Corners      1729 non-null   float64\n",
      " 17  A Corners      1729 non-null   float64\n",
      " 18  H Yellow       1729 non-null   float64\n",
      " 19  A Yellow       1729 non-null   float64\n",
      " 20  H Red          1729 non-null   float64\n",
      " 21  A Red          1729 non-null   float64\n",
      " 22  Display_Order  1729 non-null   int64  \n",
      " 23  League         1729 non-null   object \n",
      "dtypes: float64(14), int64(4), object(6)\n",
      "memory usage: 337.7+ KB\n"
     ]
    },
    {
     "data": {
      "text/plain": [
       "None"
      ]
     },
     "metadata": {},
     "output_type": "display_data"
    },
    {
     "name": "stdout",
     "output_type": "stream",
     "text": [
      "<class 'pandas.core.frame.DataFrame'>\n",
      "Index: 2519 entries, 0 to 2518\n",
      "Data columns (total 24 columns):\n",
      " #   Column         Non-Null Count  Dtype  \n",
      "---  ------         --------------  -----  \n",
      " 0   Season         2519 non-null   int64  \n",
      " 1   HomeTeam       2519 non-null   object \n",
      " 2   AwayTeam       2519 non-null   object \n",
      " 3   FTH Goals      2519 non-null   int64  \n",
      " 4   FTA Goals      2519 non-null   int64  \n",
      " 5   FT Result      2519 non-null   object \n",
      " 6   HTH Goals      2519 non-null   float64\n",
      " 7   HTA Goals      2519 non-null   float64\n",
      " 8   HT Result      2519 non-null   object \n",
      " 9   Referee        2519 non-null   object \n",
      " 10  H Shots        2519 non-null   float64\n",
      " 11  A Shots        2519 non-null   float64\n",
      " 12  H SOT          2519 non-null   float64\n",
      " 13  A SOT          2519 non-null   float64\n",
      " 14  H Fouls        2519 non-null   float64\n",
      " 15  A Fouls        2519 non-null   float64\n",
      " 16  H Corners      2519 non-null   float64\n",
      " 17  A Corners      2519 non-null   float64\n",
      " 18  H Yellow       2519 non-null   float64\n",
      " 19  A Yellow       2519 non-null   float64\n",
      " 20  H Red          2519 non-null   float64\n",
      " 21  A Red          2519 non-null   float64\n",
      " 22  Display_Order  2519 non-null   int64  \n",
      " 23  League         2519 non-null   object \n",
      "dtypes: float64(14), int64(4), object(6)\n",
      "memory usage: 492.0+ KB\n"
     ]
    },
    {
     "data": {
      "text/plain": [
       "None"
      ]
     },
     "metadata": {},
     "output_type": "display_data"
    }
   ],
   "source": [
    "# verfiying changes\n",
    "display(df.info())\n",
    "display(dfC.info())"
   ]
  },
  {
   "cell_type": "code",
   "execution_count": 78,
   "id": "597b5a8e",
   "metadata": {},
   "outputs": [],
   "source": [
    "selected_rows = df.select_dtypes(exclude='object').columns\n",
    "df[selected_rows] = df[selected_rows].astype(int)\n",
    "# change every numric column in the data to integer \n",
    "# all float values in real life will not be float so integer is the better type for them (FT goal, H yellow,........)"
   ]
  },
  {
   "cell_type": "code",
   "execution_count": 79,
   "id": "2e4e74a5",
   "metadata": {},
   "outputs": [],
   "source": [
    "selected_rows = dfC.select_dtypes(exclude='object').columns # choosing every column that is not object\n",
    "dfC[selected_rows] = dfC[selected_rows].astype(int)  # convert it to integer \n",
    "# cleared any inconsistincy in this matter"
   ]
  },
  {
   "cell_type": "code",
   "execution_count": 80,
   "id": "7cc85478",
   "metadata": {},
   "outputs": [],
   "source": [
    "df[\"Season\"]= df[\"Season\"].astype(str)  # return Season to object \n",
    "dfC[\"Season\"]= dfC[\"Season\"].astype(str) \n"
   ]
  },
  {
   "cell_type": "code",
   "execution_count": 81,
   "id": "54b1892c",
   "metadata": {},
   "outputs": [],
   "source": [
    "selected_rows = dfC.select_dtypes(exclude='object').columns #  removing any negative values\n",
    "dfC[selected_rows] = dfC[selected_rows].map(lambda x: x if x>=0 else abs(x))\n"
   ]
  },
  {
   "cell_type": "code",
   "execution_count": 82,
   "id": "63c81aac",
   "metadata": {},
   "outputs": [],
   "source": [
    "\n",
    "selected_rows1 = df.select_dtypes(exclude='object').columns # removing any negative values \n",
    "df[selected_rows1] = df[selected_rows1].map(lambda x: x if x>=0 else abs(x))"
   ]
  },
  {
   "cell_type": "code",
   "execution_count": 83,
   "id": "16a556df",
   "metadata": {},
   "outputs": [
    {
     "name": "stdout",
     "output_type": "stream",
     "text": [
      "Columns with NaN values are: Index([], dtype='object')\n"
     ]
    }
   ],
   "source": [
    "null_col=df.columns[df.isna().any()]\n",
    "print(f\"Columns with NaN values are: {null_col}\")\n",
    "# There is no missing data "
   ]
  },
  {
   "cell_type": "code",
   "execution_count": 84,
   "id": "dcf22f42",
   "metadata": {},
   "outputs": [
    {
     "data": {
      "text/plain": [
       "Index([], dtype='object')"
      ]
     },
     "metadata": {},
     "output_type": "display_data"
    }
   ],
   "source": [
    "display(dfC.columns[df.isna().any()]) #There is no missing data in Champ"
   ]
  },
  {
   "cell_type": "code",
   "execution_count": 85,
   "id": "6229e5fa",
   "metadata": {},
   "outputs": [],
   "source": [
    "\n",
    "#minimizing the labels needed for the analysis\n",
    "premData= df[[\"Season\",\"HomeTeam\",\"AwayTeam\",\"FTH Goals\",\"FTA Goals\",'FT Result',\"H Fouls\",\"A Fouls\",\"H Yellow\",\"A Yellow\",\"H Red\",\"A Red\",\"League\"]]\n",
    "champData= dfC[[\"Season\",\"HomeTeam\",\"AwayTeam\",\"FTH Goals\",\"FTA Goals\",'FT Result',\"H Fouls\",\"A Fouls\",\"H Yellow\",\"A Yellow\",\"H Red\",\"A Red\",\"League\"]]\n",
    "\n"
   ]
  },
  {
   "cell_type": "code",
   "execution_count": 86,
   "id": "4f11cd26",
   "metadata": {},
   "outputs": [
    {
     "name": "stderr",
     "output_type": "stream",
     "text": [
      "C:\\Users\\bdr-m\\AppData\\Local\\Temp\\ipykernel_4908\\2333536333.py:2: SettingWithCopyWarning: \n",
      "A value is trying to be set on a copy of a slice from a DataFrame.\n",
      "Try using .loc[row_indexer,col_indexer] = value instead\n",
      "\n",
      "See the caveats in the documentation: https://pandas.pydata.org/pandas-docs/stable/user_guide/indexing.html#returning-a-view-versus-a-copy\n",
      "  premData[\"H Fouls\"] = premData[\"H Fouls\"] + premData[\"A Fouls\"]\n",
      "C:\\Users\\bdr-m\\AppData\\Local\\Temp\\ipykernel_4908\\2333536333.py:3: SettingWithCopyWarning: \n",
      "A value is trying to be set on a copy of a slice from a DataFrame.\n",
      "Try using .loc[row_indexer,col_indexer] = value instead\n",
      "\n",
      "See the caveats in the documentation: https://pandas.pydata.org/pandas-docs/stable/user_guide/indexing.html#returning-a-view-versus-a-copy\n",
      "  champData[\"H Fouls\"] = champData[\"H Fouls\"] + champData[\"A Fouls\"]\n",
      "C:\\Users\\bdr-m\\AppData\\Local\\Temp\\ipykernel_4908\\2333536333.py:6: SettingWithCopyWarning: \n",
      "A value is trying to be set on a copy of a slice from a DataFrame.\n",
      "Try using .loc[row_indexer,col_indexer] = value instead\n",
      "\n",
      "See the caveats in the documentation: https://pandas.pydata.org/pandas-docs/stable/user_guide/indexing.html#returning-a-view-versus-a-copy\n",
      "  premData[\"H Yellow\"] = premData[\"H Yellow\"] + premData[\"A Yellow\"]\n",
      "C:\\Users\\bdr-m\\AppData\\Local\\Temp\\ipykernel_4908\\2333536333.py:7: SettingWithCopyWarning: \n",
      "A value is trying to be set on a copy of a slice from a DataFrame.\n",
      "Try using .loc[row_indexer,col_indexer] = value instead\n",
      "\n",
      "See the caveats in the documentation: https://pandas.pydata.org/pandas-docs/stable/user_guide/indexing.html#returning-a-view-versus-a-copy\n",
      "  champData[\"H Yellow\"] = champData[\"H Yellow\"] + champData[\"A Yellow\"]\n",
      "C:\\Users\\bdr-m\\AppData\\Local\\Temp\\ipykernel_4908\\2333536333.py:11: SettingWithCopyWarning: \n",
      "A value is trying to be set on a copy of a slice from a DataFrame.\n",
      "Try using .loc[row_indexer,col_indexer] = value instead\n",
      "\n",
      "See the caveats in the documentation: https://pandas.pydata.org/pandas-docs/stable/user_guide/indexing.html#returning-a-view-versus-a-copy\n",
      "  premData[\"H Red\"] = premData[\"H Red\"] + premData[\"A Red\"]\n",
      "C:\\Users\\bdr-m\\AppData\\Local\\Temp\\ipykernel_4908\\2333536333.py:12: SettingWithCopyWarning: \n",
      "A value is trying to be set on a copy of a slice from a DataFrame.\n",
      "Try using .loc[row_indexer,col_indexer] = value instead\n",
      "\n",
      "See the caveats in the documentation: https://pandas.pydata.org/pandas-docs/stable/user_guide/indexing.html#returning-a-view-versus-a-copy\n",
      "  champData[\"H Red\"] = champData[\"H Red\"] + champData[\"A Red\"]\n"
     ]
    }
   ],
   "source": [
    "# Total Fouls\n",
    "premData[\"H Fouls\"] = premData[\"H Fouls\"] + premData[\"A Fouls\"]\n",
    "champData[\"H Fouls\"] = champData[\"H Fouls\"] + champData[\"A Fouls\"]\n",
    "\n",
    "# Total Yellow Cards\n",
    "premData[\"H Yellow\"] = premData[\"H Yellow\"] + premData[\"A Yellow\"]\n",
    "champData[\"H Yellow\"] = champData[\"H Yellow\"] + champData[\"A Yellow\"]\n",
    "\n",
    "\n",
    "# Total Red Cards\n",
    "premData[\"H Red\"] = premData[\"H Red\"] + premData[\"A Red\"]\n",
    "champData[\"H Red\"] = champData[\"H Red\"] + champData[\"A Red\"]\n"
   ]
  },
  {
   "cell_type": "code",
   "execution_count": 87,
   "id": "df297f31",
   "metadata": {},
   "outputs": [],
   "source": [
    "# Renaming H Fouls and Droping A Fouls \n",
    "premData=premData.rename(columns={\"H Fouls\":\"Fouls\"}) \n",
    "premData=premData.drop(columns=[\"A Fouls\"])\n",
    "\n",
    "\n",
    "champData=champData.rename(columns={\"H Fouls\":\"Fouls\"}) \n",
    "champData=champData.drop(columns=[\"A Fouls\"])\n",
    "\n",
    "\n",
    "# Renaming H Yellow and Droping A Yellow \n",
    "premData=premData.rename(columns={\"H Yellow\":\"Yellow\"}) \n",
    "premData=premData.drop(columns=[\"A Yellow\"])\n",
    "\n",
    "\n",
    "champData=champData.rename(columns={\"H Yellow\":\"Yellow\"}) \n",
    "champData=champData.drop(columns=[\"A Yellow\"])\n",
    "\n",
    "\n",
    "\n",
    "# Renaming H Red and Droping A Red \n",
    "premData=premData.rename(columns={\"H Red\":\"Red\"}) \n",
    "premData=premData.drop(columns=[\"A Red\"])\n",
    "\n",
    "\n",
    "champData=champData.rename(columns={\"H Red\":\"Red\"}) \n",
    "champData=champData.drop(columns=[\"A Red\"])\n"
   ]
  },
  {
   "cell_type": "code",
   "execution_count": 88,
   "id": "f2cfbea7",
   "metadata": {},
   "outputs": [],
   "source": [
    "import numpy as np\n",
    "import matplotlib.pyplot as plt\n",
    "from scipy import stats \n",
    "\n"
   ]
  },
  {
   "cell_type": "code",
   "execution_count": 89,
   "id": "bc657ecb",
   "metadata": {},
   "outputs": [
    {
     "data": {
      "image/png": "[encoded data removed]",
      "text/plain": [
       "<Figure size 600x600 with 1 Axes>"
      ]
     },
     "metadata": {},
     "output_type": "display_data"
    }
   ],
   "source": [
    "plt.figure(figsize=(6,6))\n",
    "plt.hist(premData[\"Fouls\"],bins=10)\n",
    "plt.xlabel(\"Number of Fouls in Premier League\")\n",
    "plt.ylabel(\"Frequency\")  \n",
    "# created a histogram to see how frequent the fouls are given in Premier League \n",
    "\n",
    "# Save it to a file\n",
    "plt.savefig(\"visuals/fouls_boxplot.png\", dpi=300, bbox_inches='tight')\n",
    "plt.show()\n",
    "plt.close()\n"
   ]
  },
  {
   "cell_type": "code",
   "execution_count": 90,
   "id": "e1dfd4b9",
   "metadata": {},
   "outputs": [
    {
     "data": {
      "image/png": "[encoded data removed]",
      "text/plain": [
       "<Figure size 640x480 with 1 Axes>"
      ]
     },
     "metadata": {},
     "output_type": "display_data"
    }
   ],
   "source": [
    "plt.figure(layout=\"constrained\")\n",
    "plt.hist(champData[\"Fouls\"],bins=10)\n",
    "# created a histogram to see how frequent the fouls are given in Championship League \n",
    "plt.xlabel(\"Number of Fouls in Championship League\")\n",
    "plt.ylabel(\"Frequency\")\n",
    "# Save it to a file\n",
    "plt.savefig(\"visuals/fouls2_boxplot.png\", dpi=300, bbox_inches='tight')\n",
    "plt.show()\n",
    "plt.close()\n"
   ]
  },
  {
   "cell_type": "code",
   "execution_count": 91,
   "id": "2ebece7e",
   "metadata": {},
   "outputs": [
    {
     "name": "stdout",
     "output_type": "stream",
     "text": [
      "The median in PremData: 21.0 and The mean 21.522267206477732 and The mode:ModeResult(mode=21, count=137)\n",
      "The median in ChampData: 22.0 and The mean 22.443826915442635 and The mode:ModeResult(mode=22, count=207) \n"
     ]
    }
   ],
   "source": [
    "print(f\"The median in PremData: {np.median(premData[\"Fouls\"])} and The mean {premData[\"Fouls\"].mean()} and The mode:{stats.mode(premData[\"Fouls\"])}\")\n",
    "\n",
    "print(f\"The median in ChampData: {np.median(champData[\"Fouls\"])} and The mean {champData[\"Fouls\"].mean()} and The mode:{stats.mode(champData[\"Fouls\"])} \")\n"
   ]
  },
  {
   "cell_type": "code",
   "execution_count": 92,
   "id": "05886381",
   "metadata": {},
   "outputs": [
    {
     "name": "stdout",
     "output_type": "stream",
     "text": [
      "Premier League: The Range: 34,\n",
      "The sample variance 27.937148560503722 , And\n",
      "The Standard Deviation: 5.285560382826377\n",
      "\n",
      "Championship : The Range: 34,\n",
      "The sample variance 26.029309574477804 , And\n",
      "The Standard Deviation: 5.101892744313409\n"
     ]
    }
   ],
   "source": [
    "# Prem's Fouls Dispersion of The Distributoin\n",
    "print(f\"\"\"Premier League: The Range: {premData[\"Fouls\"].max()-premData[\"Fouls\"].min()},\n",
    "The sample variance {np.var(premData[\"Fouls\"],ddof=1)} , And\n",
    "The Standard Deviation: {np.std(premData[\"Fouls\"],ddof=1)}\"\"\")\n",
    "\n",
    "\n",
    "# Champ's Fouls Dispersion of The Distributoin\n",
    "print(f\"\"\"\n",
    "Championship : The Range: {champData[\"Fouls\"].max()-champData[\"Fouls\"].min()},\n",
    "The sample variance {np.var(champData[\"Fouls\"],ddof=1)} , And\n",
    "The Standard Deviation: {np.std(champData[\"Fouls\"],ddof=1)}\"\"\")\n",
    "\n"
   ]
  },
  {
   "cell_type": "markdown",
   "id": "431829ff",
   "metadata": {},
   "source": []
  },
  {
   "cell_type": "code",
   "execution_count": 93,
   "id": "1da11d6a",
   "metadata": {},
   "outputs": [
    {
     "name": "stdout",
     "output_type": "stream",
     "text": [
      "Prem The interquartile range: 7.0\n"
     ]
    }
   ],
   "source": [
    "# Calculating the Interquartile of Premier League Fouls Data\n",
    "Q3_prem, Q1_prem = np.percentile(premData[\"Fouls\"], [75,25])\n",
    "\n",
    "IQR_prem = Q3_prem-Q1_prem \n",
    "print(f\"Prem The interquartile range: {IQR_prem}\")\n"
   ]
  },
  {
   "cell_type": "code",
   "execution_count": 94,
   "id": "a757a59c",
   "metadata": {},
   "outputs": [
    {
     "name": "stdout",
     "output_type": "stream",
     "text": [
      "Champ The interquartile range: 7.0\n"
     ]
    }
   ],
   "source": [
    "# Calculating the Interquartile of Championship League Fouls Data\n",
    "Q3_champ, Q1_champ = np.percentile(champData[\"Fouls\"], [75,25])\n",
    "\n",
    "IQR_champ = Q3_champ-Q1_champ\n",
    "print(f\"Champ The interquartile range: {IQR_champ}\")\n"
   ]
  },
  {
   "cell_type": "code",
   "execution_count": 95,
   "id": "692503d9",
   "metadata": {},
   "outputs": [
    {
     "data": {
      "image/png": "[encoded data removed]",
      "text/plain": [
       "<Figure size 600x600 with 1 Axes>"
      ]
     },
     "metadata": {},
     "output_type": "display_data"
    }
   ],
   "source": [
    "plt.figure(figsize=(6,6))\n",
    "plt.boxplot(premData[\"Fouls\"])\n",
    "plt.title(\"Box Plot\")\n",
    "# created a box plot to see how the fouls are distributed in Premier League Data \n",
    "\n",
    "\n",
    "# Save it to a file\n",
    "plt.savefig(\"visuals/fouls3_boxplot.png\", dpi=300, bbox_inches='tight')\n",
    "plt.show()\n",
    "plt.close()\n"
   ]
  },
  {
   "cell_type": "code",
   "execution_count": 96,
   "id": "02f267e2",
   "metadata": {},
   "outputs": [
    {
     "data": {
      "image/png": "[encoded data removed]",
      "text/plain": [
       "<Figure size 600x600 with 1 Axes>"
      ]
     },
     "metadata": {},
     "output_type": "display_data"
    }
   ],
   "source": [
    "plt.figure(figsize=(6,6))\n",
    "plt.boxplot(champData[\"Fouls\"])\n",
    "plt.title(\"Box Plot\")\n",
    "plt.show()\n",
    "# created a box plot to see how the fouls are distributed in Championship League Data \n"
   ]
  },
  {
   "cell_type": "code",
   "execution_count": 97,
   "id": "c514c30b",
   "metadata": {},
   "outputs": [
    {
     "name": "stdout",
     "output_type": "stream",
     "text": [
      "Prem p-value: 5.545914683829631e-07\n",
      "We reject null hypothesis for Premier League Data\n",
      "Champ p-value: 2.2198750730609526e-09\n",
      "We reject null hypothesis for Champoinship Data\n"
     ]
    }
   ],
   "source": [
    "# null hypothesis: the Fouls data follows normal distribution \n",
    "\n",
    "\n",
    "\n",
    "\n",
    "# is the data following normal distribution?\n",
    "_1,pvalue_prem = stats.shapiro(premData[\"Fouls\"])\n",
    "print(f\"Prem p-value: {pvalue_prem}\")\n",
    "\n",
    "\n",
    "\n",
    "if pvalue_prem< 0.05:\n",
    "    print(\"We reject null hypothesis for Premier League Data\")\n",
    "else:\n",
    "    print(\"We fail to reject null hypothesis for Premier League Data\")\n",
    "\n",
    "# is the data following normal distribution?\n",
    "_2,pvalue_champ = stats.shapiro(champData[\"Fouls\"])\n",
    "print(f\"Champ p-value: {pvalue_champ}\")\n",
    "\n",
    "\n",
    "if pvalue_champ< 0.05:\n",
    "    print(\"We reject null hypothesis for Champoinship Data\")\n",
    "else:\n",
    "    print(\"We fail to reject null hypothesis for Champoinship Data\")"
   ]
  },
  {
   "cell_type": "code",
   "execution_count": 98,
   "id": "a5c7f276",
   "metadata": {},
   "outputs": [
    {
     "name": "stdout",
     "output_type": "stream",
     "text": [
      "We reject null hypothesis\n"
     ]
    }
   ],
   "source": [
    "# i will use U test since both data's don't follow Normal Distribution\n",
    "\n",
    "# null hypothesis: test if the means are significantly different\n",
    "_,pvalue = stats.mannwhitneyu(premData[\"Fouls\"],champData[\"Fouls\"])\n",
    "\n",
    "if pvalue< 0.05:\n",
    "    print(\"We reject null hypothesis\")\n",
    "else:\n",
    "    print(\"We fail to reject null hypothesis\")\n",
    "# their means are similar "
   ]
  },
  {
   "cell_type": "code",
   "execution_count": 99,
   "id": "f33b2e78",
   "metadata": {},
   "outputs": [
    {
     "name": "stdout",
     "output_type": "stream",
     "text": [
      "The median of Yellow Cards given in PremData: 3.0 and The mean 3.617698091382302 and The mode:ModeResult(mode=3, count=352)\n",
      "The median of Yellow Cards given in ChampData: 3.0 and The mean 3.59428344581183 and The mode:ModeResult(mode=3, count=510) \n"
     ]
    }
   ],
   "source": [
    "print(f\"The median of Yellow Cards given in PremData: {np.median(premData[\"Yellow\"])} and The mean {premData[\"Yellow\"].mean()} and The mode:{stats.mode(premData[\"Yellow\"])}\")\n",
    "\n",
    "print(f\"The median of Yellow Cards given in ChampData: {np.median(champData[\"Yellow\"])} and The mean {champData[\"Yellow\"].mean()} and The mode:{stats.mode(champData[\"Yellow\"])} \")\n"
   ]
  },
  {
   "cell_type": "code",
   "execution_count": 100,
   "id": "744df974",
   "metadata": {},
   "outputs": [
    {
     "name": "stdout",
     "output_type": "stream",
     "text": [
      "Champ The interquartile range: 3.0\n"
     ]
    }
   ],
   "source": [
    "# Calculating the Interquartile of Championship League Yellow Cards Data\n",
    "Q3_champ, Q1_champ = np.percentile(champData[\"Yellow\"], [75,25])\n",
    "\n",
    "IQR_champ = Q3_champ-Q1_champ\n",
    "print(f\"Champ The interquartile range: {IQR_champ}\")\n"
   ]
  },
  {
   "cell_type": "code",
   "execution_count": 101,
   "id": "d047eba3",
   "metadata": {},
   "outputs": [
    {
     "name": "stdout",
     "output_type": "stream",
     "text": [
      "Premier League: The Range: 14,\n",
      "The sample variance 4.110126411113277 , And\n",
      "The Standard Deviation: 2.027344670033509\n",
      "\n",
      "Championship : The Range: 11,\n",
      "The sample variance 3.71936365433668 , And\n",
      "The Standard Deviation: 1.9285651802147314\n"
     ]
    }
   ],
   "source": [
    "# Prem's Yellow Cards Dispersion of The Distributoin\n",
    "print(f\"\"\"Premier League: The Range: {premData[\"Yellow\"].max()-premData[\"Yellow\"].min()},\n",
    "The sample variance {np.var(premData[\"Yellow\"],ddof=1)} , And\n",
    "The Standard Deviation: {np.std(premData[\"Yellow\"],ddof=1)}\"\"\")\n",
    "\n",
    "\n",
    "# Champ's Yellow Cards Dispersion of The Distributoin\n",
    "print(f\"\"\"\n",
    "Championship : The Range: {champData[\"Yellow\"].max()-champData[\"Yellow\"].min()},\n",
    "The sample variance {np.var(champData[\"Yellow\"],ddof=1)} , And\n",
    "The Standard Deviation: {np.std(champData[\"Yellow\"],ddof=1)}\"\"\")\n",
    "\n"
   ]
  },
  {
   "cell_type": "code",
   "execution_count": 102,
   "id": "dc88856b",
   "metadata": {},
   "outputs": [
    {
     "data": {
      "image/png": "[encoded data removed]",
      "text/plain": [
       "<Figure size 640x480 with 1 Axes>"
      ]
     },
     "metadata": {},
     "output_type": "display_data"
    }
   ],
   "source": [
    "plt.figure(layout=\"constrained\")\n",
    "plt.hist(premData[\"Yellow\"],bins=10)\n",
    "\n",
    "\n",
    "plt.xlabel(\"Number of Yellow Cards in Premier League\")\n",
    "plt.ylabel(\"Frequency\")\n",
    "\n",
    "\n",
    "# created a histogram to see how much  yellow cards are given in Premier League  \n",
    "# Save it to a file\n",
    "plt.savefig(\"visuals/yellowCards_histogram.png\", dpi=300, bbox_inches='tight')\n",
    "plt.show()\n",
    "plt.close()"
   ]
  },
  {
   "cell_type": "code",
   "execution_count": 103,
   "id": "f2bd53ca",
   "metadata": {},
   "outputs": [
    {
     "data": {
      "image/png": "[encoded data removed]",
      "text/plain": [
       "<Figure size 640x480 with 1 Axes>"
      ]
     },
     "metadata": {},
     "output_type": "display_data"
    }
   ],
   "source": [
    "plt.figure(layout=\"constrained\")\n",
    "plt.hist(champData[\"Yellow\"],bins=10)\n",
    "# created a histogram to see how much  yellow cards are given in Championship League\n",
    "\n",
    "plt.xlabel(\"Number of Yellow Cards in Champion League\")\n",
    "plt.ylabel(\"Frequency\")\n",
    "# Save it to a file\n",
    "plt.savefig(\"visuals/yellowCards2_histogram.png\", dpi=300, bbox_inches='tight')\n",
    "plt.show()\n",
    "plt.close()"
   ]
  },
  {
   "cell_type": "code",
   "execution_count": 104,
   "id": "6c60f9f7",
   "metadata": {},
   "outputs": [
    {
     "data": {
      "image/png": "[encoded data removed]",
      "text/plain": [
       "<Figure size 600x600 with 1 Axes>"
      ]
     },
     "metadata": {},
     "output_type": "display_data"
    }
   ],
   "source": [
    "figure=plt.figure(figsize=(6,6))\n",
    "ax=figure.add_subplot(111) # to add subplot in the figure created\n",
    "plt.boxplot([premData[\"Yellow\"],champData[\"Yellow\"]]) \n",
    "plt.title(\"Box Plot\")\n",
    "ax.set_xticklabels([\"Premier League\",\"Championship League\"]) # set labels in the x axis for each box plot\n",
    "\n",
    "# created a boxplot to see how yellow cards data are distributed in both leagues\n",
    "\n",
    "\n",
    "\n",
    "# Save it to a file\n",
    "plt.savefig(\"visuals/yellowCards_Boxplot.png\", dpi=300, bbox_inches='tight')\n",
    "plt.show()\n",
    "plt.close()"
   ]
  },
  {
   "cell_type": "code",
   "execution_count": 105,
   "id": "ad3a9417",
   "metadata": {},
   "outputs": [
    {
     "name": "stdout",
     "output_type": "stream",
     "text": [
      "Prem yCards p-value: 4.437656150594048e-21\n",
      "We reject null hypothesis for Premier League Data\n",
      "Champ p-value: 1.3666003926217997e-24\n",
      "We reject null hypothesis for Champoinship Data\n"
     ]
    }
   ],
   "source": [
    "# null hypothesis: the Yellow Cards data follows normal distribution \n",
    "\n",
    "\n",
    "\n",
    "\n",
    "# is the data following normal distribution?\n",
    "_1,pvalue_prem_yCards = stats.shapiro(premData[\"Yellow\"])\n",
    "print(f\"Prem yCards p-value: {pvalue_prem_yCards}\")\n",
    "\n",
    "\n",
    "\n",
    "if pvalue_prem_yCards< 0.05:\n",
    "    print(\"We reject null hypothesis for Premier League Data\")\n",
    "else:\n",
    "    print(\"We fail to reject null hypothesis for Premier League Data\")\n",
    "\n",
    "# is the data following normal distribution?\n",
    "_2,pvalue_champ_yCards = stats.shapiro(champData[\"Yellow\"])\n",
    "print(f\"Champ p-value: {pvalue_champ_yCards}\")\n",
    "\n",
    "\n",
    "if pvalue_champ_yCards< 0.05:\n",
    "    print(\"We reject null hypothesis for Champoinship Data\")\n",
    "else:\n",
    "    print(\"We fail to reject null hypothesis for Champoinship Data\")"
   ]
  },
  {
   "cell_type": "code",
   "execution_count": 106,
   "id": "7dc0a5ea",
   "metadata": {},
   "outputs": [
    {
     "name": "stdout",
     "output_type": "stream",
     "text": [
      "We reject null hypothesis\n"
     ]
    }
   ],
   "source": [
    "# i will use U test since the both data's don't follow Normal Distribution\n",
    "\n",
    "# null hypothesis: test if the means are significantly different\n",
    "_,pvalue = stats.mannwhitneyu(premData[\"Fouls\"],champData[\"Fouls\"])\n",
    "\n",
    "if pvalue< 0.05:\n",
    "    print(\"We reject null hypothesis\")\n",
    "else:\n",
    "    print(\"We fail to reject null hypothesis\")\n",
    "# their means are similar "
   ]
  },
  {
   "cell_type": "code",
   "execution_count": 107,
   "id": "d47c86ee",
   "metadata": {},
   "outputs": [
    {
     "data": {
      "image/png": "[encoded data removed]",
      "text/plain": [
       "<Figure size 640x480 with 1 Axes>"
      ]
     },
     "metadata": {},
     "output_type": "display_data"
    }
   ],
   "source": [
    "plt.figure(layout=\"constrained\")\n",
    "plt.hist(premData[\"Red\"],bins=10)\n",
    "\n",
    "# created a histogram to see how much  red cards are given in Premier League  \n",
    "\n",
    "plt.xlabel(\"Number of Red Cards in Premier League\")\n",
    "plt.ylabel(\"Frequency\")\n",
    "# Save it to a file\n",
    "plt.savefig(\"visuals/redCards_histogram.png\", dpi=300, bbox_inches='tight')\n",
    "plt.show()\n",
    "plt.close()\n"
   ]
  },
  {
   "cell_type": "code",
   "execution_count": 108,
   "id": "6647eed1",
   "metadata": {},
   "outputs": [
    {
     "data": {
      "image/png": "[encoded data removed]",
      "text/plain": [
       "<Figure size 600x600 with 1 Axes>"
      ]
     },
     "metadata": {},
     "output_type": "display_data"
    }
   ],
   "source": [
    "plt.figure(figsize=(6,6))\n",
    "plt.hist(champData[\"Red\"],bins=[0,1,2,3,4])\n",
    "\n",
    "# created a histogram to see how much  red cards are given in Premier League  \n",
    "\n",
    "\n",
    "plt.xlabel(\"Number of Red Cards in Champion League\")\n",
    "plt.ylabel(\"Frequency\")\n",
    "# Save it to a file\n",
    "plt.savefig(\"visuals/redCards1_histogram.png\", dpi=300, bbox_inches='tight')\n",
    "plt.show()\n",
    "plt.close()\n"
   ]
  },
  {
   "cell_type": "code",
   "execution_count": 109,
   "id": "495d60a1",
   "metadata": {},
   "outputs": [
    {
     "name": "stdout",
     "output_type": "stream",
     "text": [
      "The median of Red Cards given in PremData: 0.0 and The mean 0.11683053788316947 and The mode:ModeResult(mode=0, count=1539)\n",
      "The median of Red Cards given in ChampData: 0.0 and The mean 0.11790393013100436 and The mode:ModeResult(mode=0, count=2243) \n"
     ]
    }
   ],
   "source": [
    "print(f\"The median of Red Cards given in PremData: {np.median(premData[\"Red\"])} and The mean {premData[\"Red\"].mean()} and The mode:{stats.mode(premData[\"Red\"])}\")\n",
    "\n",
    "print(f\"The median of Red Cards given in ChampData: {np.median(champData[\"Red\"])} and The mean {champData[\"Red\"].mean()} and The mode:{stats.mode(champData[\"Red\"])} \")\n"
   ]
  },
  {
   "cell_type": "code",
   "execution_count": 110,
   "id": "5d8025d1",
   "metadata": {},
   "outputs": [
    {
     "name": "stdout",
     "output_type": "stream",
     "text": [
      "Prem The interquartile range: 0.0\n"
     ]
    }
   ],
   "source": [
    "# Calculating the Interquartile of Premier League Red Cards Data\n",
    "Q3_prem, Q1_prem = np.percentile(premData[\"Red\"], [75,25])\n",
    "\n",
    "IQR_prem = Q3_prem-Q1_prem \n",
    "print(f\"Prem The interquartile range: {IQR_prem}\")\n"
   ]
  },
  {
   "cell_type": "code",
   "execution_count": 111,
   "id": "1630a2f2",
   "metadata": {},
   "outputs": [
    {
     "name": "stdout",
     "output_type": "stream",
     "text": [
      "Premier League: The Range: 2,\n",
      "The sample variance 0.11712976351133964 , And\n",
      "The Standard Deviation: 0.34224225851191964\n",
      "\n",
      "Championship : The Range: 4,\n",
      "The sample variance 0.12390092643013646 , And\n",
      "The Standard Deviation: 0.35199563410664125\n"
     ]
    }
   ],
   "source": [
    "# Prem Red Cards Dispersion of The Distributoin\n",
    "print(f\"\"\"Premier League: The Range: {premData[\"Red\"].max()-premData[\"Red\"].min()},\n",
    "The sample variance {np.var(premData[\"Red\"],ddof=1)} , And\n",
    "The Standard Deviation: {np.std(premData[\"Red\"],ddof=1)}\"\"\")\n",
    "\n",
    "\n",
    "# Champ Red Cards Dispersion of The Distributoin\n",
    "print(f\"\"\"\n",
    "Championship : The Range: {champData[\"Red\"].max()-champData[\"Red\"].min()},\n",
    "The sample variance {np.var(champData[\"Red\"],ddof=1)} , And\n",
    "The Standard Deviation: {np.std(champData[\"Red\"],ddof=1)}\"\"\")\n",
    "\n"
   ]
  },
  {
   "cell_type": "code",
   "execution_count": 112,
   "id": "dd351522",
   "metadata": {},
   "outputs": [
    {
     "data": {
      "image/png": "[encoded data removed]",
      "text/plain": [
       "<Figure size 600x600 with 1 Axes>"
      ]
     },
     "metadata": {},
     "output_type": "display_data"
    },
    {
     "data": {
      "text/plain": [
       "<Figure size 640x480 with 0 Axes>"
      ]
     },
     "metadata": {},
     "output_type": "display_data"
    }
   ],
   "source": [
    "figure=plt.figure(figsize=(6,6))\n",
    "ax=figure.add_subplot(111) # to add subplot in the figure created\n",
    "plt.boxplot([premData[\"Red\"],champData[\"Red\"]])\n",
    "plt.title(\"Box Plot\")\n",
    "ax.set_xticklabels([\"Premier League\",\"Championship League\"])  # set labels in the x axis for each box plot\n",
    "plt.show()\n",
    "# created a boxplot to see how red cards data are distributed in both leagues\n",
    "\n",
    "\n",
    "# Save it to a file\n",
    "plt.savefig(\"visuals/RedCards_boxPlot.png\", dpi=300, bbox_inches='tight')\n",
    "plt.show()\n",
    "plt.close()"
   ]
  },
  {
   "cell_type": "code",
   "execution_count": 113,
   "id": "24663faf",
   "metadata": {},
   "outputs": [
    {
     "name": "stdout",
     "output_type": "stream",
     "text": [
      "Prem rCards p-value: 7.224312852157967e-61\n",
      "We reject null hypothesis for Premier League Data\n",
      "Champ p-value: 3.397166563207323e-69\n",
      "We reject null hypothesis for Champoinship Data\n"
     ]
    }
   ],
   "source": [
    "# null hypothesis: the Red Cards data follows normal distribution \n",
    "\n",
    "\n",
    "\n",
    "\n",
    "# is the data following normal distribution?\n",
    "_1,pvalue_prem_rCards = stats.shapiro(premData[\"Red\"])\n",
    "print(f\"Prem rCards p-value: {pvalue_prem_rCards}\")\n",
    "\n",
    "\n",
    "\n",
    "if pvalue_prem_rCards< 0.05:\n",
    "    print(\"We reject null hypothesis for Premier League Data\")\n",
    "else:\n",
    "    print(\"We fail to reject null hypothesis for Premier League Data\")\n",
    "\n",
    "# is the data following normal distribution?\n",
    "_2,pvalue_champ_rCards = stats.shapiro(champData[\"Red\"])\n",
    "print(f\"Champ p-value: {pvalue_champ_rCards}\")\n",
    "\n",
    "\n",
    "if pvalue_champ_rCards< 0.05:\n",
    "    print(\"We reject null hypothesis for Champoinship Data\")\n",
    "else:\n",
    "    print(\"We fail to reject null hypothesis for Champoinship Data\")"
   ]
  },
  {
   "cell_type": "code",
   "execution_count": 114,
   "id": "36b61446",
   "metadata": {},
   "outputs": [
    {
     "name": "stdout",
     "output_type": "stream",
     "text": [
      "We fail to reject null hypothesis\n"
     ]
    }
   ],
   "source": [
    "# i will use U test since the both data's don't follow Normal Distribution\n",
    "\n",
    "# null hypothesis: the means are significantly different\n",
    "_,pvalue = stats.mannwhitneyu(premData[\"Red\"],champData[\"Red\"])\n",
    "\n",
    "if pvalue< 0.05:\n",
    "    print(\"We reject null hypothesis\")\n",
    "else:\n",
    "    print(\"We fail to reject null hypothesis\")\n",
    "# their means are similar "
   ]
  }
 ],
 "metadata": {
  "kernelspec": {
   "display_name": "base",
   "language": "python",
   "name": "python3"
  },
  "language_info": {
   "codemirror_mode": {
    "name": "ipython",
    "version": 3
   },
   "file_extension": ".py",
   "mimetype": "text/x-python",
   "name": "python",
   "nbconvert_exporter": "python",
   "pygments_lexer": "ipython3",
   "version": "3.12.3"
  }
 },
 "nbformat": 4,
 "nbformat_minor": 5
}
